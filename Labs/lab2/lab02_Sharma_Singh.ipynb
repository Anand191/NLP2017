{
 "cells": [
  {
   "cell_type": "markdown",
   "metadata": {},
   "source": [
    "# Lab 2: Inference in Graphical Models\n",
    "\n",
    "### Machine Learning 2 (2016/2017)\n",
    "\n",
    "* The lab exercises should be made in groups of two people or individually.\n",
    "* The hand-in deadline is Wednesday, May 10, 23:59.\n",
    "* Assignment should be sent to p.j.j.p.versteeg@uva.nl. The subject line of your email should be \"[ML2_2017] lab#_lastname1\\_lastname2\". \n",
    "* Put your and your teammates' names in the body of the email\n",
    "* Attach the .IPYNB (IPython Notebook) file containing your code and answers. Naming of the file follows the same rule as the subject line. For example, if the subject line is \"[ML2_2017] lab02\\_Bongers\\_Blom\", the attached file should be \"lab02\\_Bongers\\_Blom.ipynb\". Only use underscores (\"\\_\") to connect names, otherwise the files cannot be parsed.\n",
    "\n",
    "Notes on implementation:\n",
    "\n",
    "* You should write your code and answers in an IPython Notebook: http://ipython.org/notebook.html. If you have problems, please ask or e-mail Philip.\n",
    "* For some of the questions, you can write the code directly in the first code cell that provides the class structure.\n",
    "* Among the first lines of your notebook should be \"%pylab inline\". This imports all required modules, and your plots will appear inline.\n",
    "* NOTE: test your code and make sure we can run your notebook / scripts!"
   ]
  },
  {
   "cell_type": "markdown",
   "metadata": {},
   "source": [
    "### Introduction\n",
    "In this assignment, we will implement the sum-product and max-sum algorithms for factor graphs over discrete variables. The relevant theory is covered in chapter 8 of Bishop's PRML book, in particular section 8.4. Read this chapter carefuly before continuing!\n",
    "\n",
    "We will first implement sum-product and max-sum and apply it to a simple poly-tree structured factor graph for medical diagnosis. Then, we will implement a loopy version of the algorithms and use it for image denoising.\n",
    "\n",
    "For this assignment we recommended you stick to numpy ndarrays (constructed with np.array, np.zeros, np.ones, etc.) as opposed to numpy matrices, because arrays can store n-dimensional arrays whereas matrices only work for 2d arrays. We need n-dimensional arrays in order to store conditional distributions with more than 1 conditioning variable. If you want to perform matrix multiplication on arrays, use the np.dot function; all infix operators including *, +, -, work element-wise on arrays."
   ]
  },
  {
   "cell_type": "markdown",
   "metadata": {},
   "source": [
    "## Part 1: The sum-product algorithm\n",
    "\n",
    "We will implement a datastructure to store a factor graph and to facilitate computations on this graph. Recall that a factor graph consists of two types of nodes, factors and variables. Below you will find some classes for these node types to get you started. Carefully inspect this code and make sure you understand what it does; you will have to build on it later."
   ]
  },
  {
   "cell_type": "code",
   "execution_count": 43,
   "metadata": {
    "collapsed": false
   },
   "outputs": [
    {
     "name": "stdout",
     "output_type": "stream",
     "text": [
      "Populating the interactive namespace from numpy and matplotlib\n"
     ]
    }
   ],
   "source": [
    "%pylab inline\n",
    "class Node(object):\n",
    "    \"\"\"\n",
    "    Base-class for Nodes in a factor graph. Only instantiate sub-classes of Node.\n",
    "    \"\"\"\n",
    "    def __init__(self, name,loopyStatus):\n",
    "        # A name for this Node, for printing purposes\n",
    "        self.name = name\n",
    "        \n",
    "        # Neighbours in the graph, identified with their index in this list.\n",
    "        # i.e. self.neighbours contains neighbour 0 through len(self.neighbours) - 1.\n",
    "        self.neighbours = []\n",
    "        \n",
    "        # Reset the node-state (not the graph topology)\n",
    "        self.reset()\n",
    "        \n",
    "        self.loopyStatus = loopyStatus\n",
    "        \n",
    "    def reset(self):\n",
    "        # Incoming messages; a dictionary mapping neighbours to messages.\n",
    "        # That is, it maps  Node -> np.ndarray.\n",
    "        self.in_msgs = {}\n",
    "        \n",
    "        # A set of neighbours for which this node has pending messages.\n",
    "        # We use a python set object so we don't have to worry about duplicates.\n",
    "        self.pending = set([])\n",
    "\n",
    "    def add_neighbour(self, nb):\n",
    "        self.neighbours.append(nb)\n",
    "\n",
    "    def send_sp_msg(self, other):\n",
    "        # To be implemented in subclass.\n",
    "        raise Exception('Method send_sp_msg not implemented in base-class Node')\n",
    "   \n",
    "    def send_ms_msg(self, other):\n",
    "        # To be implemented in subclass.\n",
    "        raise Exception('Method send_ms_msg not implemented in base-class Node')\n",
    "    \n",
    "    def receive_msg(self, other, msg):\n",
    "        \n",
    "        #******************************************************************\n",
    "        #   RECEIVING MESSAGES (SECTION 1.5)                                                              \n",
    "        #******************************************************************\n",
    "        \n",
    "        \n",
    "        # Store the incomming message, replacing previous messages from the same node\n",
    "        self.in_msgs[other] = msg\n",
    "        \n",
    "        if self.loopyStatus == False:\n",
    "            # Non-Loopy BP. Only nodes with complete messages may transmit further.\n",
    "            # Consider All Messages and All nodes except 'other', \n",
    "            \n",
    "            # All nodes that are neighbours excluding the 'other' node\n",
    "            nodes_except_other = set([i for i in self.neighbours if i != other])\n",
    "            sentMsgNodes = set(self.in_msgs.keys()) \n",
    "            \n",
    "            # Message Check on all neighbours that are not 'other' which has completed message passing and is \n",
    "            # now excluded.   \n",
    "            pendingNodes = []\n",
    "            for node in nodes_except_other:\n",
    "                # Nodes other than the iterator 'node'\n",
    "                out_nodes = set([i for i in self.neighbours if i != node])\n",
    "                \n",
    "                # Implies that you have not removed a non-critical node from set of nodes that have already sent messages.\n",
    "                # Such non-critical nodes that do not affect set-membership will be penidng nodes.\n",
    "                if out_nodes.issubset(sentMsgNodes):\n",
    "                    pendingNodes.append(node)        \n",
    "        else:\n",
    "            # Loopy BP. Incomplete messages 'can' be sent here.\n",
    "            pendingNodes = list(set(self.neighbours)-set([other]))\n",
    "        \n",
    "        self.pending.update(pendingNodes)\n",
    "        \n",
    "    \n",
    "    def __str__(self):\n",
    "        # This is printed when using 'print node_instance'\n",
    "        return self.name\n",
    "    \n",
    "    def node_check(self,other):\n",
    "        #Check neighbour info\n",
    "        #Implement before anything else\n",
    "        assert other in self.neighbours,\"%r is not a valid neighbour of %r\" %(other.name,self.name)\n",
    "        other_neighbours = [oth for oth in self.neighbours if oth != other]\n",
    "        assert set(other_neighbours).issubset(self.in_msgs.keys()),\"Some node(s) may not have sent messages. Unable to proceed.\"\n",
    "        #all_received = reduce(lambda acc, n: acc and n in self.in_msgs.keys(), other_neighbours, True)\n",
    "        #assert all_received, 'Node {} has not all needed information'.format(self.name)\n",
    "\n",
    "class Variable(Node):\n",
    "    def __init__(self, name, num_states,loopyStatus=False):\n",
    "        \"\"\"\n",
    "        Variable node constructor.\n",
    "        Args:\n",
    "            name: a name string for this node. Used for printing. \n",
    "            num_states: the number of states this variable can take.\n",
    "            Allowable states run from 0 through (num_states - 1).\n",
    "            For example, for a binary variable num_states=2,\n",
    "            and the allowable states are 0, 1.\n",
    "        \"\"\"\n",
    "        self.num_states = num_states\n",
    "        \n",
    "        # Call the base-class constructor\n",
    "        super(Variable, self).__init__(name,loopyStatus)\n",
    "    \n",
    "    def set_observed(self, observed_state):\n",
    "        \"\"\"\n",
    "        Set this variable to an observed state.\n",
    "        Args:\n",
    "            observed_state: an integer value in [0, self.num_states - 1].\n",
    "        \"\"\"\n",
    "        # Observed state is represented as a 1-of-N variable\n",
    "        # Could be 0.0 for sum-product, but log(0.0) = -inf so a tiny value is preferable for max-sum\n",
    "        self.observed_state[:] = 0.000001\n",
    "        self.observed_state[observed_state] = 1.0\n",
    "        self.set_observed_state = 1.0\n",
    "    def set_latent(self):\n",
    "        \"\"\"\n",
    "        Erase an observed state for this variable and consider it latent again.\n",
    "        \"\"\"\n",
    "        # No state is preferred, so set all entries of observed_state to 1.0\n",
    "        # Using this representation we need not differentiate between observed and latent\n",
    "        # variables when sending messages.\n",
    "        self.observed_state[:] = 1.0\n",
    "        self.set_observed_state = 0.0\n",
    "        \n",
    "    def reset(self):\n",
    "        super(Variable, self).reset()\n",
    "        self.observed_state = np.ones(self.num_states)\n",
    "        self.set_observed_state = 0.0\n",
    "        \n",
    "    def marginal(self, Z=None):\n",
    "        \n",
    "        #******************************************************************\n",
    "        #   COMPUTE MARGINAL (SECTION 1.4)                                                              \n",
    "        #******************************************************************\n",
    "        \n",
    "        #******************************************************************\n",
    "        #   OBSERVED VARIABLES AND PROBABILISTIC QUERIES (SECTION 1.7)                                                              \n",
    "        #******************************************************************\n",
    "        \n",
    "        \"\"\"\n",
    "        Compute the marginal distribution of this Variable.\n",
    "        It is assumed that message passing has completed when this function is called.\n",
    "        Args:\n",
    "            Z: an optional normalization constant can be passed in. If None is passed, Z is computed.\n",
    "        Returns: marginal, Z. The first is a numpy array containing the normalized marginal distribution.\n",
    "         Z is either equal to the input Z, or computed in this function (if Z=None was passed).\n",
    "        \"\"\"\n",
    "        \n",
    "        if self.set_observed_state == 1.0:\n",
    "            messageProduct = self.observed_state\n",
    "            \n",
    "        else:\n",
    "            messages = [self.in_msgs[var] for var in self.neighbours]\n",
    "            messageProduct = np.multiply.reduce(messages)\n",
    "\n",
    "            # Compute Normalization Factor Z by summing up all terms of computed message.\n",
    "\n",
    "        if Z == None:\n",
    "            Z = sum(messageProduct)\n",
    "            \n",
    "        marginal = messageProduct/float(Z)      \n",
    "    \n",
    "        return marginal, Z\n",
    "    \n",
    "    def send_sp_msg(self, other):\n",
    "        \n",
    "        \n",
    "        #******************************************************************\n",
    "        #   VARIABLE TO FACTOR MESSAGES (SECTION 1.3)                                                              \n",
    "        #******************************************************************\n",
    "        \n",
    "        #******************************************************************\n",
    "        #   OBSERVED VARIABLES AND PROBABILISTIC QUERIES (SECTION 1.7)                                                              \n",
    "        #******************************************************************\n",
    "        \n",
    "        self.node_check(other)\n",
    "        #assert other in self.neighbours,\"%r is not a valid neighbour of %r\" %(other,self.name)\n",
    "    \n",
    "        if len(self.neighbours) == 1 or self.set_observed_state == 1.0:\n",
    "            msg = self.observed_state\n",
    "        \n",
    "        else:\n",
    "            other_neighbours = [oth for oth in self.neighbours if oth != other]\n",
    "            other_index = self.neighbours.index(other)\n",
    "            \n",
    "            #assert set(other_neighbours).issubset(self.in_msgs.keys()),\"Some node(s) may not have sent messages. Unable to proceed.\"\n",
    "            messages = [self.in_msgs[var] for var in other_neighbours]\n",
    "            msg = np.multiply.reduce(messages)\n",
    "        \n",
    "        other.receive_msg(self,msg)\n",
    "        # Remove 'other form pending list'\n",
    "        self.pending.discard(other)\n",
    "   \n",
    "    def send_ms_msg(self, other):\n",
    "        \n",
    "        #******************************************************************\n",
    "        #   VARIABLE TO FACTOR MESSAGES (SECTION 2.2)                                                              \n",
    "        #******************************************************************\n",
    "        \n",
    "        # Simple Sum of terms.\n",
    "                \n",
    "        self.node_check(other)\n",
    "        \n",
    "        if len(self.neighbours) == 1 or self.set_observed_state == 1.0:\n",
    "            msg = np.log(self.observed_state)\n",
    "        \n",
    "        else:\n",
    "            \n",
    "            other_neighbours = [oth for oth in self.neighbours if oth != other]\n",
    "#             messages = [self.in_msgs[var] for var in other_neighbours]\n",
    "#             dimx = [2] * len(other_neighbours)\n",
    "#             msgVector = np.zeros([dimx])\n",
    "            \n",
    "            msg = np.zeros(self.num_states)\n",
    "            for idx,node in enumerate(other_neighbours):\n",
    "                msg += self.in_msgs[node] \n",
    "            \n",
    "            # Pass the standard initialization message.\n",
    "#             if self.set_observed_state == 1.0:\n",
    "#                 msg = np.log(self.observed_state)\n",
    "                \n",
    "#             else:\n",
    "#                 msg = np.zeros(self.num_states)\n",
    "            \n",
    "        # Send Message.\n",
    "        # print ('Var -> Factor %r') %(msg)\n",
    "        other.receive_msg(self,msg)\n",
    "        # Remove 'other form pending list'\n",
    "        self.pending.discard(other)\n",
    "        \n",
    "        #******************************************************************\n",
    "        #   MAP STATE (SECTION 2.3)                                                              \n",
    "        #******************************************************************\n",
    "    \n",
    "    def MAP(self):\n",
    "        return np.argmax(np.sum(self.in_msgs.values(),axis=0))\n",
    "\n",
    "class Factor(Node):\n",
    "    def __init__(self, name, f, neighbours,loopyStatus=False):\n",
    "        \"\"\"\n",
    "        Factor node constructor.\n",
    "        Args:\n",
    "            name: a name string for this node. Used for printing\n",
    "            f: a numpy.ndarray with N axes, where N is the number of neighbours.\n",
    "               That is, the axes of f correspond to variables, and the index along that axes corresponds to a value of that variable.\n",
    "               Each axis of the array should have as many entries as the corresponding neighbour variable has states.\n",
    "            neighbours: a list of neighbouring Variables. Bi-directional connections are created.\n",
    "        \"\"\"\n",
    "        # Call the base-class constructor\n",
    "        super(Factor, self).__init__(name,loopyStatus)\n",
    "\n",
    "        assert len(neighbours) == f.ndim, 'Factor function f should accept as many arguments as this Factor node has neighbours'\n",
    "        \n",
    "        for nb_ind in range(len(neighbours)):\n",
    "            nb = neighbours[nb_ind]\n",
    "            assert f.shape[nb_ind] == nb.num_states, 'The range of the factor function f is invalid for input %i %s' % (nb_ind, nb.name)\n",
    "            self.add_neighbour(nb)\n",
    "            nb.add_neighbour(self)\n",
    "\n",
    "        self.f = f\n",
    "        \n",
    "    def send_sp_msg(self, other):\n",
    "        \n",
    "        #******************************************************************\n",
    "        #   FACTOR TO VARIABLE MESSAGES (SECTION 1.2)                                                              \n",
    "        #******************************************************************\n",
    "        self.node_check(other)\n",
    "          #assert other in self.neighbours,\"%r is not a valid neighbour of %r\" %(other,self.name)\n",
    "        \n",
    "        # Check if input variable 'other' is a vaid neighbour for this factor.\n",
    "        if len(self.neighbours) == 1:\n",
    "            msg = self.f;\n",
    "            \n",
    "        else:\n",
    "            \n",
    "            other_neighbours = [oth for oth in self.neighbours if oth != other]\n",
    "            \n",
    "            # Check all neighbours have sent messages. This is vital according to Bishop to check all factors \n",
    "            # have received messages before intitiating marginalization.\n",
    "            \n",
    "            messages = [self.in_msgs[var] for var in other_neighbours]\n",
    "            prod = np.multiply.reduce(np.ix_(*messages))\n",
    "            other_index = self.neighbours.index(other)\n",
    "\n",
    "            # Compute Marginalization Dimensions. These are all dimensions for excluding the 'other' dimension. \n",
    "            # We will hence filter on this specific dimension\n",
    "\n",
    "            marginalized_dims = filter(lambda x: not x == other_index,range(len(self.neighbours)));\n",
    "            msg = np.tensordot(self.f,prod,axes=(marginalized_dims,range(prod.ndim)));\n",
    "\n",
    "        \n",
    "               \n",
    "        other.receive_msg(self,msg)\n",
    "        # Remove 'other form pending list'\n",
    "        self.pending.discard(other)\n",
    "   \n",
    "    def send_ms_msg(self, other):\n",
    "        \n",
    "        #******************************************************************\n",
    "        #   FACTOR TO VARIABLE MESSAGES (SECTION 2.1)                                                              \n",
    "        #******************************************************************\n",
    "        \n",
    "        self.node_check(other)\n",
    "        if len(self.neighbours) == 1:\n",
    "            \n",
    "            # Pass the standard initialization message.\n",
    "            \n",
    "            msg = np.log(self.f)\n",
    "        \n",
    "        else:\n",
    "        \n",
    "            other_neighbours = [oth for oth in self.neighbours if oth != other]\n",
    "            messages = [self.in_msgs[var] for var in other_neighbours]\n",
    "            dimx = len(other_neighbours)\n",
    "            output = 0\n",
    "            # msgVector = np.zeros([dimx])\n",
    "            other_index = self.neighbours.index(other) \n",
    "            \n",
    "            for idx,node in enumerate(other_neighbours):\n",
    "                outVector = [2]*(dimx-idx-1)+[1]*(idx + 1)\n",
    "                output += np.tile(self.in_msgs[node],outVector)\n",
    "            \n",
    "            # Compute Maximization axes. These are all axes except 'other'. Same as in send_sp_msg()\n",
    "            \n",
    "            maximization_dims = filter(lambda x: not x == other_index,range(len(self.neighbours)));\n",
    "            \n",
    "            # Compute Maxima along an axis. In this case , the final term is a sum so no tensordot needed.\n",
    "            msg = np.amax(np.log(self.f) + output,axis=tuple(maximization_dims));\n",
    "        \n",
    "        \n",
    "            \n",
    "        # Send Message.\n",
    "        # print ('Factor -> Var %r') %(msg)\n",
    "        other.receive_msg(self,msg)\n",
    "        # Remove 'other form pending list'\n",
    "        self.pending.discard(other)\n",
    "        \n",
    "        pass\n"
   ]
  },
  {
   "cell_type": "markdown",
   "metadata": {},
   "source": [
    "### 1.1 Instantiate network (10 points)\n",
    "Convert the directed graphical model (\"Bayesian Network\") shown below to a factor graph. Instantiate this graph by creating Variable and Factor instances and linking them according to the graph structure. \n",
    "To instantiate the factor graph, first create the Variable nodes and then create Factor nodes, passing a list of neighbour Variables to each Factor.\n",
    "Use the following prior and conditional probabilities.\n",
    "\n",
    "$$\n",
    "p(\\verb+Influenza+) = 0.05 \\\\\\\\\n",
    "p(\\verb+Smokes+) = 0.2 \\\\\\\\\n",
    "$$\n",
    "\n",
    "$$\n",
    "p(\\verb+SoreThroat+ = 1 | \\verb+Influenza+ = 1) = 0.3 \\\\\\\\\n",
    "p(\\verb+SoreThroat+ = 1 | \\verb+Influenza+ = 0) = 0.001 \\\\\\\\\n",
    "p(\\verb+Fever+ = 1| \\verb+Influenza+ = 1) = 0.9 \\\\\\\\\n",
    "p(\\verb+Fever+ = 1| \\verb+Influenza+ = 0) = 0.05 \\\\\\\\\n",
    "p(\\verb+Bronchitis+ = 1 | \\verb+Influenza+ = 1, \\verb+Smokes+ = 1) = 0.99 \\\\\\\\\n",
    "p(\\verb+Bronchitis+ = 1 | \\verb+Influenza+ = 1, \\verb+Smokes+ = 0) = 0.9 \\\\\\\\\n",
    "p(\\verb+Bronchitis+ = 1 | \\verb+Influenza+ = 0, \\verb+Smokes+ = 1) = 0.7 \\\\\\\\\n",
    "p(\\verb+Bronchitis+ = 1 | \\verb+Influenza+ = 0, \\verb+Smokes+ = 0) = 0.0001 \\\\\\\\\n",
    "p(\\verb+Coughing+ = 1| \\verb+Bronchitis+ = 1) = 0.8 \\\\\\\\\n",
    "p(\\verb+Coughing+ = 1| \\verb+Bronchitis+ = 0) = 0.07 \\\\\\\\\n",
    "p(\\verb+Wheezing+ = 1| \\verb+Bronchitis+ = 1) = 0.6 \\\\\\\\\n",
    "p(\\verb+Wheezing+ = 1| \\verb+Bronchitis+ = 0) = 0.001 \\\\\\\\\n",
    "$$"
   ]
  },
  {
   "cell_type": "code",
   "execution_count": 44,
   "metadata": {
    "collapsed": false
   },
   "outputs": [
    {
     "data": {
      "image/png": "[encoded data removed]",
      "text/plain": [
       "<IPython.core.display.Image object>"
      ]
     },
     "execution_count": 44,
     "metadata": {},
     "output_type": "execute_result"
    }
   ],
   "source": [
    "from IPython.core.display import Image \n",
    "Image(filename='bn.png') "
   ]
  },
  {
   "cell_type": "code",
   "execution_count": 45,
   "metadata": {
    "collapsed": true
   },
   "outputs": [],
   "source": [
    "# Creating Variables First: ARGS : name,num_states =2 \n",
    "\n",
    "influenza = Variable('Influenza',2)\n",
    "smokes = Variable('Smokes',2)\n",
    "soreThroat = Variable('SoreThroat',2)\n",
    "fever = Variable('Fever',2)\n",
    "bronchitis = Variable('Bronchitis',2)\n",
    "coughing = Variable('Coughing',2)\n",
    "wheezing = Variable('wheezing',2)\n",
    "\n",
    "\n",
    "# Creating Factors. All Directed Relationships between variables will constitute factors and \n",
    "# will require to be initialized\n",
    "\n",
    "smokes_prior = Factor('Only given Smokes',np.array([1.-0.2,0.2]),[smokes])\n",
    "influenza_prior = Factor('Only given Influenza',np.array([1.-0.05,0.05]),[influenza])\n",
    "soreThroat_influenza = Factor('Sore Throat given Influenza',np.array([[1.-0.001,1.-0.3],[0.001,0.3]]),\n",
    "                              [soreThroat,influenza])\n",
    "fever_influenza = Factor('Fever given Influenza',np.array([[1.-0.05,1.-0.9],[0.05,0.9]]),[fever,influenza])\n",
    "bronchitis_influenza_smokes = Factor('Bronchitis given Influenza and Smokes',np.array([[[1-0.001,1-0.7],\n",
    "                                     [1-0.9,1-0.99]],[[0.001,0.7],[0.9,0.99]]]),[bronchitis,influenza,smokes])\n",
    "coughing_bronchitis = Factor('Coughing given Bronchitis',np.array([[1.-0.07,1-0.8],[0.07,0.8]]),\n",
    "                             [coughing,bronchitis])\n",
    "wheezing_bronchitis = Factor('Wheezing given Bronchitis',np.array([[1.-0.001,1.-0.6],[0.001,0.6]]),\n",
    "                             [wheezing,bronchitis])\n",
    "\n",
    "node_complete = [influenza,smokes,soreThroat,fever,bronchitis,coughing,wheezing,smokes_prior,\n",
    "                 influenza_prior,soreThroat_influenza,coughing_bronchitis,wheezing_bronchitis,\n",
    "                 bronchitis_influenza_smokes,fever_influenza]\n",
    "\n",
    "variable_nodes = [influenza,smokes,soreThroat,fever,bronchitis,coughing,wheezing]\n",
    "\n"
   ]
  },
  {
   "cell_type": "markdown",
   "metadata": {},
   "source": [
    "### 1.2 Factor to variable messages (20 points)\n",
    "Write a method `send_sp_msg(self, other)` for the Factor class, that checks if all the information required to pass a message to Variable `other` is present, computes the message and sends it to `other`. \"Sending\" here simply means calling the `receive_msg` function of the receiving node (we will implement this later). The message itself should be represented as a numpy array (np.array) whose length is equal to the number of states of the variable.\n",
    "\n",
    "An elegant and efficient solution can be obtained using the n-way outer product of vectors. This product takes n vectors $\\mathbf{x}^{(1)}, \\ldots, \\mathbf{x}^{(n)}$ and computes a $n$-dimensional tensor (ndarray) whose element $i_0,i_1,...,i_n$ is given by $\\prod_j \\mathbf{x}^{(j)}_{i_j}$. In python, this is realized as `np.multiply.reduce(np.ix_(*vectors))` for a python list `vectors` of 1D numpy arrays. Try to figure out how this statement works -- it contains some useful functional programming techniques. Another function that you may find useful in computing the message is `np.tensordot`."
   ]
  },
  {
   "cell_type": "code",
   "execution_count": 46,
   "metadata": {
    "collapsed": true
   },
   "outputs": [],
   "source": [
    "#Implemented in class(Factor) under method \"send_sp_msg\""
   ]
  },
  {
   "cell_type": "markdown",
   "metadata": {},
   "source": [
    "### 1.3 Variable to factor messages (10 points)\n",
    "\n",
    "Write a method `send_sp_message(self, other)` for the Variable class, that checks if all the information required to pass a message to Variable var is present, computes the message and sends it to factor."
   ]
  },
  {
   "cell_type": "code",
   "execution_count": 47,
   "metadata": {
    "collapsed": true
   },
   "outputs": [],
   "source": [
    "#Implemented in class(Variable) under method \"send_sp_msg\""
   ]
  },
  {
   "cell_type": "markdown",
   "metadata": {},
   "source": [
    "### 1.4 Compute marginal (10 points)\n",
    "Later in this assignment, we will implement message passing schemes to do inference. Once the message passing has completed, we will want to compute local marginals for each variable.\n",
    "Write the method `marginal` for the Variable class, that computes a marginal distribution over that node."
   ]
  },
  {
   "cell_type": "code",
   "execution_count": 48,
   "metadata": {
    "collapsed": true
   },
   "outputs": [],
   "source": [
    "#Implemented in class(Variable) under method \"marginal\""
   ]
  },
  {
   "cell_type": "markdown",
   "metadata": {},
   "source": [
    "### 1.5 Receiving messages (10 points)\n",
    "In order to implement the loopy and non-loopy message passing algorithms, we need some way to determine which nodes are ready to send messages to which neighbours. To do this in a way that works for both loopy and non-loopy algorithms, we make use of the concept of \"pending messages\", which is explained in Bishop (8.4.7): \n",
    "\"we will say that a (variable or factor)\n",
    "node a has a message pending on its link to a node b if node a has received any\n",
    "message on any of its other links since the last time it send (sic) a message to b. Thus,\n",
    "when a node receives a message on one of its links, this creates pending messages\n",
    "on all of its other links.\"\n",
    "\n",
    "Keep in mind that for the non-loopy algorithm, nodes may not have received any messages on some or all of their links. Therefore, before we say node a has a pending message for node b, we must check that node a has received all messages needed to compute the message that is to be sent to b.\n",
    "\n",
    "Modify the function `receive_msg`, so that it updates the self.pending variable as described above. The member self.pending is a set that is to be filled with Nodes to which self has pending messages. Modify the `send_msg` functions to remove pending messages as they are sent."
   ]
  },
  {
   "cell_type": "code",
   "execution_count": 49,
   "metadata": {
    "collapsed": true
   },
   "outputs": [],
   "source": [
    "#Implemented in class(Node) under method \"receive_msg\""
   ]
  },
  {
   "cell_type": "markdown",
   "metadata": {},
   "source": [
    "### 1.6 Inference Engine (10 points)\n",
    "Write a function `sum_product(node_list)` that runs the sum-product message passing algorithm on a tree-structured factor graph with given nodes. The input parameter `node_list` is a list of all Node instances in the graph, which is assumed to be ordered correctly. That is, the list starts with a leaf node, which can always send a message. Subsequent nodes in `node_list` should be capable of sending a message when the pending messages of preceding nodes in the list have been sent. The sum-product algorithm then proceeds by passing over the list from beginning to end, sending all pending messages at the nodes it encounters. Then, in reverse order, the algorithm traverses the list again and again sends all pending messages at each node as it is encountered. For this to work, you must initialize pending messages for all the leaf nodes, e.g. `influenza_prior.pending.add(influenza)`, where `influenza_prior` is a Factor node corresponding the the prior, `influenza` is a Variable node and the only connection of `influenza_prior` goes to `influenza`.\n",
    "\n",
    "\n"
   ]
  },
  {
   "cell_type": "code",
   "execution_count": 50,
   "metadata": {
    "collapsed": true
   },
   "outputs": [],
   "source": [
    "def sum_product(graph_nodes):\n",
    "    # Performs a single pass in one direction\n",
    "    def f_pass(nodes):\n",
    "        for node in nodes:\n",
    "            pending_n = list(node.pending)\n",
    "            for pend in pending_n:\n",
    "                node.send_sp_msg(pend)\n",
    "    \n",
    "    # Forward pass\n",
    "    f_pass(graph_nodes)\n",
    "    # Backward pass\n",
    "    f_pass(list(reversed(graph_nodes)))"
   ]
  },
  {
   "cell_type": "code",
   "execution_count": 51,
   "metadata": {
    "collapsed": false
   },
   "outputs": [
    {
     "name": "stdout",
     "output_type": "stream",
     "text": [
      "p(sore_throat=0) = 0.98405\n",
      "p(sore_throat=1) = 0.01595\n"
     ]
    }
   ],
   "source": [
    "def set_graph(observed=[]):\n",
    "    # Reset all nodes\n",
    "    for node in node_complete:\n",
    "        node.reset()\n",
    "    \n",
    "    # Setup leaf nodes\n",
    "    influenza_prior.pending.add(influenza)\n",
    "    smokes_prior.pending.add(smokes)\n",
    "    soreThroat.pending.add(soreThroat_influenza)\n",
    "    fever.pending.add(fever_influenza)\n",
    "    coughing.pending.add(coughing_bronchitis)\n",
    "    wheezing.pending.add(wheezing_bronchitis)\n",
    "\n",
    "    # Setup graph ordering\n",
    "    return [influenza_prior, smokes_prior, coughing,\n",
    "            wheezing, soreThroat, fever, soreThroat_influenza,\n",
    "            fever_influenza, coughing_bronchitis, wheezing_bronchitis,\n",
    "            smokes, influenza, bronchitis, bronchitis_influenza_smokes]\n",
    "\n",
    "    #return [influenza_prior, smokes_prior, coughing,\n",
    "            #wheezing, soreThroat, fever, coughing_bronchitis,wheezing_bronchitis,bronchitis,\n",
    "            #soreThroat_influenza,fever_influenza,\n",
    "            #smokes, influenza, bronchitis_influenza_smokes]\n",
    "\n",
    "graph_order = set_graph()\n",
    "# Start sum-product algorithm\n",
    "sum_product(graph_order)\n",
    "\n",
    "st_marginal = soreThroat.marginal()\n",
    "print 'p(sore_throat=0) =', st_marginal[0][0]\n",
    "print 'p(sore_throat=1) =', st_marginal[0][1]"
   ]
  },
  {
   "cell_type": "markdown",
   "metadata": {},
   "source": [
    "### 1.7 Observed variables and probabilistic queries (15 points)\n",
    "We will now use the inference engine to answer probabilistic queries. That is, we will set certain variables to observed values, and obtain the marginals over latent variables. We have already provided functions `set_observed` and `set_latent` that manage a member of Variable called `observed_state`. Modify the `Variable.send_msg` and `Variable.marginal` routines that you wrote before, to use `observed_state` so as to get the required marginals when some nodes are observed."
   ]
  },
  {
   "cell_type": "markdown",
   "metadata": {
    "collapsed": true
   },
   "source": [
    "<h5> IMPLEMENTED IN CLASS Variable </h5> "
   ]
  },
  {
   "cell_type": "code",
   "execution_count": 52,
   "metadata": {
    "collapsed": false
   },
   "outputs": [
    {
     "name": "stdout",
     "output_type": "stream",
     "text": [
      "p(coughing=0|influenza=1,smokes=1,bronchitis=1) = 0.200000729999\n",
      "p(coughing=1|influenza=1,smokes=1,bronchitis=1) = 0.799999270001\n",
      "\n",
      "p(sore_throat=0|influenza=1,smokes=1,bronchitis=1) = 0.700000299\n",
      "p(sore_throat=1|influenza=1,smokes=1,bronchitis=1) = 0.299999701\n",
      "\n",
      "p(fever=0|influenza=1,smokes=1,bronchitis=1) = 0.100000849999\n",
      "p(fever=1|influenza=1,smokes=1,bronchitis=1) = 0.899999150001\n",
      "\n"
     ]
    }
   ],
   "source": [
    "graph_order = set_graph()\n",
    "influenza.set_observed(1)\n",
    "smokes.set_observed(1)\n",
    "bronchitis.set_observed(1)\n",
    "\n",
    "sum_product(graph_order)\n",
    "\n",
    "coughing_marginal = coughing.marginal()\n",
    "print 'p(coughing=0|influenza=1,smokes=1,bronchitis=1) =', coughing_marginal[0][0]\n",
    "print 'p(coughing=1|influenza=1,smokes=1,bronchitis=1) =', coughing_marginal[0][1]\n",
    "print \"\"\n",
    "st_marginal = soreThroat.marginal()\n",
    "print 'p(sore_throat=0|influenza=1,smokes=1,bronchitis=1) =', st_marginal[0][0]\n",
    "print 'p(sore_throat=1|influenza=1,smokes=1,bronchitis=1) =', st_marginal[0][1]\n",
    "print \"\"\n",
    "f_marginal = fever.marginal()\n",
    "print 'p(fever=0|influenza=1,smokes=1,bronchitis=1) =', f_marginal[0][0]\n",
    "print 'p(fever=1|influenza=1,smokes=1,bronchitis=1) =', f_marginal[0][1]\n",
    "print \"\""
   ]
  },
  {
   "cell_type": "code",
   "execution_count": 53,
   "metadata": {
    "collapsed": false
   },
   "outputs": [
    {
     "name": "stdout",
     "output_type": "stream",
     "text": [
      "p(wheezing=0|influenza=1,smokes=0,bronchitis=1) = 0.400000598999\n",
      "p(wheezing=1|influenza=1,smokes=0,bronchitis=1) = 0.599999401001\n",
      "\n",
      "p(fever=0|influenza=1,smokes=0,bronchitis=1) = 0.100000849999\n",
      "p(fever=1|influenza=1,smokes=0,bronchitis=1) = 0.899999150001\n",
      "\n"
     ]
    }
   ],
   "source": [
    "graph_order = set_graph()\n",
    "influenza.set_observed(1)\n",
    "smokes.set_observed(0)\n",
    "bronchitis.set_observed(1)\n",
    "\n",
    "sum_product(graph_order)\n",
    "\n",
    "w_marginal = wheezing.marginal()\n",
    "print 'p(wheezing=0|influenza=1,smokes=0,bronchitis=1) =', w_marginal[0][0]\n",
    "print 'p(wheezing=1|influenza=1,smokes=0,bronchitis=1) =', w_marginal[0][1]\n",
    "print \"\"\n",
    "f_marginal = fever.marginal()\n",
    "print 'p(fever=0|influenza=1,smokes=0,bronchitis=1) =', f_marginal[0][0]\n",
    "print 'p(fever=1|influenza=1,smokes=0,bronchitis=1) =', f_marginal[0][1]\n",
    "print \"\""
   ]
  },
  {
   "cell_type": "markdown",
   "metadata": {},
   "source": [
    "### 1.8 Sum-product and MAP states (5 points)\n",
    "A maximum a posteriori state (MAP-state) is an assignment of all latent variables that maximizes the probability of latent variables given observed variables:\n",
    "$$\n",
    "\\mathbf{x}_{\\verb+MAP+} = \\arg\\max _{\\mathbf{x}} p(\\mathbf{x} | \\mathbf{y})\n",
    "$$\n",
    "Could we use the sum-product algorithm to obtain a MAP state? If yes, how? If no, why not?\n"
   ]
  },
  {
   "cell_type": "markdown",
   "metadata": {},
   "source": [
    "No we can't use Sum-Product algorithm to obtain the MAP State. Let $\\mathbf{X} = y+x$ where y and x are the observed and latent variables respectively, with the observed variables having value $\\bar{y}$. We now introduce Evidence Factors using an Indicator function $\\mathcal{I}(y,\\bar{y})$ over the observed variables where $\\mathcal{I}(y,\\bar{y})$  = 1 when $y=\\bar{y}$ and 0 otherwise. Then by multiplying the joint distribution $p(\\mathbf{X})$ with $\\prod_i I(y_i,\\bar{y}_i)$ we obtain an unnormalized version of $p(x|y=\\bar{y})$ i.e. the posterior marginals.\n",
    "\n",
    "For each posterior marginal we can find the value of the latent variable which maximizes the marginal. However this yields values which are individually most probable whereas our goal is to obtain an assignment of all latent variables which jointly maximizes the whole posterior probability distribution viz. $p(\\mathbf{x|y})$. <b> Therefore we can't use sum product to obtain MAP State </b>"
   ]
  },
  {
   "cell_type": "markdown",
   "metadata": {},
   "source": [
    "## Part 2: The max-sum algorithm\n",
    "Next, we implement the max-sum algorithm as described in section 8.4.5 of Bishop."
   ]
  },
  {
   "cell_type": "markdown",
   "metadata": {},
   "source": [
    "### 2.1 Factor to variable messages (10 points)\n",
    "Implement the function `Factor.send_ms_msg` that sends Factor -> Variable messages for the max-sum algorithm. It is analogous to the `Factor.send_sp_msg` function you implemented before."
   ]
  },
  {
   "cell_type": "code",
   "execution_count": 54,
   "metadata": {
    "collapsed": true
   },
   "outputs": [],
   "source": [
    "#implemented in class Factor, under the method send_ms_msg"
   ]
  },
  {
   "cell_type": "markdown",
   "metadata": {},
   "source": [
    "### 2.2 Variable to factor messages (10 points)\n",
    "Implement the `Variable.send_ms_msg` function that sends Variable -> Factor messages for the max-sum algorithm."
   ]
  },
  {
   "cell_type": "code",
   "execution_count": 55,
   "metadata": {
    "collapsed": true
   },
   "outputs": [],
   "source": [
    "# implemented in class Variable, under the method send_ms_msg"
   ]
  },
  {
   "cell_type": "markdown",
   "metadata": {},
   "source": [
    "### 2.3 Find a MAP state (10 points)\n",
    "\n",
    "Using the same message passing schedule we used for sum-product, implement the max-sum algorithm. For simplicity, we will ignore issues relating to non-unique maxima. So there is no need to implement backtracking; the MAP state is obtained by a per-node maximization (eq. 8.98 in Bishop). Make sure your algorithm works with both latent and observed variables."
   ]
  },
  {
   "cell_type": "code",
   "execution_count": 56,
   "metadata": {
    "collapsed": true
   },
   "outputs": [],
   "source": [
    "import pandas as pd\n",
    "\n",
    "def maxsum(graph_nodes):\n",
    "    def pass_thru_all(nodes):\n",
    "        for node in nodes:\n",
    "            pending_n = list(node.pending)\n",
    "            for pend in pending_n:\n",
    "                node.send_ms_msg(pend)\n",
    "                \n",
    "    pass_thru_all(graph_nodes)\n",
    "    \n",
    "    pass_thru_all(list(reversed(graph_nodes)))\n",
    "\n",
    "    i = 0\n",
    "    mid_arr = [[],[]]\n",
    "    for node in graph_nodes:\n",
    "        if node in variable_nodes:\n",
    "            mid_arr[0].append(node.name)\n",
    "            mid_arr[1].append(node.MAP())\n",
    "            #print (node.name,node.MAP())\n",
    "            i += 1\n",
    "            \n",
    "    return np.column_stack((mid_arr[0],mid_arr[1]))"
   ]
  },
  {
   "cell_type": "code",
   "execution_count": 57,
   "metadata": {
    "collapsed": false
   },
   "outputs": [
    {
     "name": "stdout",
     "output_type": "stream",
     "text": [
      "  Variable Name X_MAP\n",
      "0      Coughing     0\n",
      "1      wheezing     0\n",
      "2    SoreThroat     0\n",
      "3         Fever     0\n",
      "4        Smokes     0\n",
      "5     Influenza     0\n",
      "6    Bronchitis     0\n"
     ]
    }
   ],
   "source": [
    "graph_order = set_graph()\n",
    "# Start sum-product algorithm\n",
    "df = pd.DataFrame(maxsum(graph_order),columns=['Variable Name','X_MAP'])\n",
    "print df"
   ]
  },
  {
   "cell_type": "code",
   "execution_count": 58,
   "metadata": {
    "collapsed": false
   },
   "outputs": [
    {
     "name": "stdout",
     "output_type": "stream",
     "text": [
      "  Variable Name X_MAP\n",
      "0      Coughing     1\n",
      "1      wheezing     1\n",
      "2    SoreThroat     0\n",
      "3         Fever     0\n",
      "4        Smokes     1\n",
      "5     Influenza     1\n",
      "6    Bronchitis     1\n"
     ]
    }
   ],
   "source": [
    "graph_order = set_graph()\n",
    "fever.set_observed(1)\n",
    "coughing.set_observed(1)\n",
    "\n",
    "df = pd.DataFrame(maxsum(graph_order),columns=['Variable Name','X_MAP'])\n",
    "print df"
   ]
  },
  {
   "cell_type": "code",
   "execution_count": 59,
   "metadata": {
    "collapsed": false
   },
   "outputs": [
    {
     "name": "stdout",
     "output_type": "stream",
     "text": [
      "  Variable Name X_MAP\n",
      "0      Coughing     0\n",
      "1      wheezing     0\n",
      "2    SoreThroat     0\n",
      "3         Fever     1\n",
      "4        Smokes     1\n",
      "5     Influenza     0\n",
      "6    Bronchitis     0\n"
     ]
    }
   ],
   "source": [
    "graph_order = set_graph()\n",
    "influenza.set_observed(1)\n",
    "smokes.set_observed(0)\n",
    "\n",
    "df = pd.DataFrame(maxsum(graph_order),columns=['Variable Name','X_MAP'])\n",
    "print df"
   ]
  },
  {
   "cell_type": "markdown",
   "metadata": {},
   "source": [
    "## Part 3: Image Denoising and Loopy BP\n",
    "\n",
    "Next, we will use a loopy version of max-sum to perform denoising on a binary image. The model itself is discussed in Bishop 8.3.3, but we will use loopy max-sum instead of Iterative Conditional Modes as Bishop does.\n",
    "\n",
    "The following code creates some toy data: `im` is a quite large binary image and `test_im` is a smaller synthetic binary image. Noisy versions are also provided."
   ]
  },
  {
   "cell_type": "code",
   "execution_count": 60,
   "metadata": {
    "collapsed": false
   },
   "outputs": [
    {
     "data": {
      "text/plain": [
       "<matplotlib.image.AxesImage at 0x7fee8045fe90>"
      ]
     },
     "execution_count": 60,
     "metadata": {},
     "output_type": "execute_result"
    },
    {
     "data": {
      "image/png": "[encoded data removed]",
      "text/plain": [
       "<matplotlib.figure.Figure at 0x7fee8045f510>"
      ]
     },
     "metadata": {},
     "output_type": "display_data"
    },
    {
     "data": {
      "image/png": "[encoded data removed]",
      "text/plain": [
       "<matplotlib.figure.Figure at 0x7fee802c0610>"
      ]
     },
     "metadata": {},
     "output_type": "display_data"
    },
    {
     "data": {
      "image/png": "[encoded data removed]",
      "text/plain": [
       "<matplotlib.figure.Figure at 0x7fee8026e8d0>"
      ]
     },
     "metadata": {},
     "output_type": "display_data"
    },
    {
     "data": {
      "image/png": "[encoded data removed]",
      "text/plain": [
       "<matplotlib.figure.Figure at 0x7fee802e65d0>"
      ]
     },
     "metadata": {},
     "output_type": "display_data"
    }
   ],
   "source": [
    "from pylab import imread, gray\n",
    "# Load the image and binarize\n",
    "im = np.mean(imread('dalmatian1.png'), axis=2) > 0.5\n",
    "imshow(im)\n",
    "gray()\n",
    "\n",
    "# Add some noise\n",
    "noise = np.random.rand(*im.shape) > 0.9\n",
    "noise_im = np.logical_xor(noise, im)\n",
    "figure()\n",
    "imshow(noise_im)\n",
    "\n",
    "test_im = np.zeros((10,10))\n",
    "#test_im[5:8, 3:8] = 1.0\n",
    "#test_im[5,5] = 1.0\n",
    "figure()\n",
    "imshow(test_im)\n",
    "\n",
    "# Add some noise\n",
    "noise = np.random.rand(*test_im.shape) > 0.9\n",
    "noise_test_im = np.logical_xor(noise, test_im)\n",
    "figure()\n",
    "imshow(noise_test_im)"
   ]
  },
  {
   "cell_type": "markdown",
   "metadata": {},
   "source": [
    "### 3.1 Construct factor graph (10 points)\n",
    "Convert the Markov Random Field (Bishop, fig. 8.31) to a factor graph and instantiate it."
   ]
  },
  {
   "cell_type": "code",
   "execution_count": null,
   "metadata": {
    "collapsed": true
   },
   "outputs": [],
   "source": []
  },
  {
   "cell_type": "markdown",
   "metadata": {},
   "source": [
    "### 3.2 Loopy max-sum (10 points)\n",
    "Implement the loopy max-sum algorithm, by passing messages from randomly chosen nodes iteratively until no more pending messages are created or a maximum number of iterations is reached. \n",
    "\n",
    "Think of a good way to initialize the messages in the graph."
   ]
  },
  {
   "cell_type": "code",
   "execution_count": null,
   "metadata": {
    "collapsed": true
   },
   "outputs": [],
   "source": []
  }
 ],
 "metadata": {
  "anaconda-cloud": {},
  "kernelspec": {
   "display_name": "Python 2",
   "language": "python",
   "name": "python2"
  },
  "language_info": {
   "codemirror_mode": {
    "name": "ipython",
    "version": 2
   },
   "file_extension": ".py",
   "mimetype": "text/x-python",
   "name": "python",
   "nbconvert_exporter": "python",
   "pygments_lexer": "ipython2",
   "version": "2.7.13"
  }
 },
 "nbformat": 4,
 "nbformat_minor": 1
}
